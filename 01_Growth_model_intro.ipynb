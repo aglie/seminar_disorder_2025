{
  "cells": [
    {
      "cell_type": "markdown",
      "id": "40d1e0c6-c2aa-4fcf-bc0d-6a32722a9b83",
      "metadata": {
        "id": "40d1e0c6-c2aa-4fcf-bc0d-6a32722a9b83"
      },
      "source": [
        "# Code to run simulations.\n",
        "\n",
        "Look below for instruction"
      ]
    },
    {
      "cell_type": "code",
      "source": [
        "!git clone https://github.com/aglie/seminar_disorder_2025.git"
      ],
      "metadata": {
        "id": "W9zY8gE8Ooxj",
        "outputId": "4be152c2-2167-48bb-b492-64a8ba844486",
        "colab": {
          "base_uri": "https://localhost:8080/"
        }
      },
      "id": "W9zY8gE8Ooxj",
      "execution_count": 1,
      "outputs": [
        {
          "output_type": "stream",
          "name": "stdout",
          "text": [
            "Cloning into 'seminar_disorder_2025'...\n",
            "remote: Enumerating objects: 53, done.\u001b[K\n",
            "remote: Counting objects: 100% (53/53), done.\u001b[K\n",
            "remote: Compressing objects: 100% (47/47), done.\u001b[K\n",
            "remote: Total 53 (delta 22), reused 17 (delta 4), pack-reused 0 (from 0)\u001b[K\n",
            "Receiving objects: 100% (53/53), 2.50 MiB | 5.87 MiB/s, done.\n",
            "Resolving deltas: 100% (22/22), done.\n"
          ]
        }
      ]
    },
    {
      "cell_type": "code",
      "source": [
        "cd seminar_disorder_2025"
      ],
      "metadata": {
        "id": "NqLWMQMBO3k4",
        "outputId": "6c59db40-df80-42eb-fe62-3d50c55f972e",
        "colab": {
          "base_uri": "https://localhost:8080/"
        }
      },
      "id": "NqLWMQMBO3k4",
      "execution_count": 5,
      "outputs": [
        {
          "output_type": "stream",
          "name": "stdout",
          "text": [
            "/content/seminar_disorder_2025\n"
          ]
        }
      ]
    },
    {
      "cell_type": "code",
      "source": [
        "!pip install ase\n",
        "!pip install gemmi"
      ],
      "metadata": {
        "id": "vSsjI6iDO8tJ",
        "outputId": "ded25531-2f65-4215-dbd7-655555f3396c",
        "colab": {
          "base_uri": "https://localhost:8080/"
        }
      },
      "id": "vSsjI6iDO8tJ",
      "execution_count": 6,
      "outputs": [
        {
          "output_type": "stream",
          "name": "stdout",
          "text": [
            "Requirement already satisfied: ase in /usr/local/lib/python3.11/dist-packages (3.24.0)\n",
            "Requirement already satisfied: numpy>=1.19.5 in /usr/local/lib/python3.11/dist-packages (from ase) (2.0.2)\n",
            "Requirement already satisfied: scipy>=1.6.0 in /usr/local/lib/python3.11/dist-packages (from ase) (1.14.1)\n",
            "Requirement already satisfied: matplotlib>=3.3.4 in /usr/local/lib/python3.11/dist-packages (from ase) (3.10.0)\n",
            "Requirement already satisfied: contourpy>=1.0.1 in /usr/local/lib/python3.11/dist-packages (from matplotlib>=3.3.4->ase) (1.3.1)\n",
            "Requirement already satisfied: cycler>=0.10 in /usr/local/lib/python3.11/dist-packages (from matplotlib>=3.3.4->ase) (0.12.1)\n",
            "Requirement already satisfied: fonttools>=4.22.0 in /usr/local/lib/python3.11/dist-packages (from matplotlib>=3.3.4->ase) (4.56.0)\n",
            "Requirement already satisfied: kiwisolver>=1.3.1 in /usr/local/lib/python3.11/dist-packages (from matplotlib>=3.3.4->ase) (1.4.8)\n",
            "Requirement already satisfied: packaging>=20.0 in /usr/local/lib/python3.11/dist-packages (from matplotlib>=3.3.4->ase) (24.2)\n",
            "Requirement already satisfied: pillow>=8 in /usr/local/lib/python3.11/dist-packages (from matplotlib>=3.3.4->ase) (11.1.0)\n",
            "Requirement already satisfied: pyparsing>=2.3.1 in /usr/local/lib/python3.11/dist-packages (from matplotlib>=3.3.4->ase) (3.2.1)\n",
            "Requirement already satisfied: python-dateutil>=2.7 in /usr/local/lib/python3.11/dist-packages (from matplotlib>=3.3.4->ase) (2.8.2)\n",
            "Requirement already satisfied: six>=1.5 in /usr/local/lib/python3.11/dist-packages (from python-dateutil>=2.7->matplotlib>=3.3.4->ase) (1.17.0)\n",
            "Requirement already satisfied: gemmi in /usr/local/lib/python3.11/dist-packages (0.7.0)\n"
          ]
        }
      ]
    },
    {
      "cell_type": "code",
      "execution_count": 7,
      "id": "958812a4-5d3d-428e-84c3-bb75568b7e89",
      "metadata": {
        "id": "958812a4-5d3d-428e-84c3-bb75568b7e89"
      },
      "outputs": [],
      "source": [
        "import numpy as np\n",
        "import matplotlib.pyplot as plt\n",
        "from CalculateScattering import CrystalStructure, Grid\n",
        "from numpy import amax\n",
        "\n",
        "# ----- Simple Growth Model with Nearest-Neighbor Correlations -----\n",
        "def generate_correlated_lattice(size, p_same):\n",
        "    \"\"\"\n",
        "    Generate a lattice using a growth model with nearest-neighbor correlations.\n",
        "\n",
        "    Parameters:\n",
        "    -----------\n",
        "    size : tuple\n",
        "        Size of the 2D grid (height, width)\n",
        "    p_same : float\n",
        "        Probability of placing the same atom type as the previous one (0.5 = random, 1.0 = ordered)\n",
        "\n",
        "    Returns:\n",
        "    --------\n",
        "    lattice : numpy.ndarray\n",
        "        2D array with +1 (Cu) and -1 (Au) values\n",
        "    \"\"\"\n",
        "    # First, create a 1D chain using a Markov process\n",
        "    height, width = size\n",
        "    total_sites = height * width\n",
        "\n",
        "    # Initialize the chain with a random first element\n",
        "    chain = np.zeros(total_sites, dtype=np.int8)\n",
        "    chain[0] = 1 if np.random.random() < 0.5 else -1\n",
        "\n",
        "    # Grow the chain site by site using the transition matrix\n",
        "    for i in range(1, total_sites):\n",
        "        prev_type = chain[i-1]\n",
        "        # Decide whether to place the same or different atom\n",
        "        if np.random.random() < p_same:\n",
        "            chain[i] = prev_type  # Same as previous\n",
        "        else:\n",
        "            chain[i] = -prev_type  # Different from previous\n",
        "\n",
        "    # Reshape to 2D\n",
        "    lattice = chain.reshape(size)\n",
        "    return lattice\n",
        "\n",
        "# ----- Visualization -----\n",
        "def visualize_lattice(lattice):\n",
        "    \"\"\"\n",
        "    Visualize the lattice configuration.\n",
        "    \"\"\"\n",
        "    plt.figure(figsize=(8, 8))\n",
        "    plt.imshow(lattice, cmap='bwr', vmin=-1, vmax=1)\n",
        "    plt.colorbar(ticks=[-1, 1], label='Atom Type (Cu: +1, Au: -1)')\n",
        "    plt.title(\"Disordered Solid Configuration\")\n",
        "    plt.xlabel(\"X\")\n",
        "    plt.ylabel(\"Y\")\n",
        "    plt.grid(False)\n",
        "    plt.tight_layout()\n",
        "    plt.show()\n",
        "\n",
        "# ----- Convert Lattice to Crystal Structure -----\n",
        "def convert_lattice_to_crystal_structure(lattice, a=3.0):\n",
        "    \"\"\"\n",
        "    Convert a 2D lattice of +1 (Cu) and -1 (Au) into a 3D CrystalStructure\n",
        "    \"\"\"\n",
        "    height, width = lattice.shape\n",
        "\n",
        "    # Create atoms list (element_type, x, y, z)\n",
        "    atoms = []\n",
        "    for x in range(height):\n",
        "        for y in range(width):\n",
        "            # Convert +1 to Cu, -1 to Au\n",
        "            element = \"Cu\" if lattice[x, y] == 1 else \"Au\"\n",
        "            atoms.append((element, x, y, 0))\n",
        "\n",
        "    # Create crystal structure with a simple cubic unit cell\n",
        "    crystal = CrystalStructure(\n",
        "        cell_parameters=(a, a, a, 90, 90, 90),  # Simple cubic cell\n",
        "        atoms=atoms,\n",
        "        supercell=(width, height, 1)  # 2D structure with thickness of 1\n",
        "    )\n",
        "\n",
        "    return crystal\n",
        "\n",
        "# ----- Calculate Diffuse Scattering -----\n",
        "def calculate_diffuse_scattering(crystal, lattice_size, blur=0.01):\n",
        "    \"\"\"\n",
        "    Calculate diffuse scattering from a crystal structure\n",
        "\n",
        "    Returns:\n",
        "    --------\n",
        "    tuple: (grid, sf, intensities)\n",
        "    \"\"\"\n",
        "    # Create grid for scattering calculation\n",
        "    ll = 5  # Lower limit in reciprocal space\n",
        "    grid = Grid(\n",
        "        lower_limits=[-ll, -ll, -1],  # q-vector lower limits\n",
        "        step_sizes=[1/lattice_size[0], 1/lattice_size[1], 1],  # Step size related to supercell size\n",
        "        no_pixels=[ll*2*lattice_size[0], ll*2*lattice_size[1], 2]  # Number of grid points\n",
        "    )\n",
        "\n",
        "    # Calculate scattering\n",
        "    sf = crystal.calculate_scattering(grid, blur=blur)\n",
        "\n",
        "    # Get intensities (middle z-layer)\n",
        "    intensities = sf.get_intensities()[:,:,1]\n",
        "\n",
        "    # Scale intensities for visualization\n",
        "    intensities = intensities/amax(intensities)\n",
        "\n",
        "    return grid, sf, intensities"
      ]
    },
    {
      "cell_type": "markdown",
      "id": "57c35b5f-2da9-4af3-a317-838deda6d581",
      "metadata": {
        "id": "57c35b5f-2da9-4af3-a317-838deda6d581"
      },
      "source": [
        "# Instructions\n",
        "\n",
        "Before we will be running a Monte Carlo simulation, here is a simpler example. We will generate a crystal with disorder only along one direction. This is easier to do, as this can be done with a simple algorithm following what is called \"Markov process\".\n",
        "\n",
        "We will split the generation in two parts. First, we will make a lattice as a simple array of +1 and -1."
      ]
    },
    {
      "cell_type": "code",
      "execution_count": 8,
      "id": "e8d00bef-d616-4a15-b296-a5a5483cd123",
      "metadata": {
        "id": "e8d00bef-d616-4a15-b296-a5a5483cd123",
        "outputId": "5f022df8-31a9-4b1b-c16b-306e93783f17",
        "colab": {
          "base_uri": "https://localhost:8080/",
          "height": 824
        }
      },
      "outputs": [
        {
          "output_type": "stream",
          "name": "stdout",
          "text": [
            "Visualizing lattice configuration:\n"
          ]
        },
        {
          "output_type": "display_data",
          "data": {
            "text/plain": [
              "<Figure size 800x800 with 2 Axes>"
            ],
            "image/png": "[encoded data removed]"
          },
          "metadata": {}
        }
      ],
      "source": [
        "# Define parameters\n",
        "lattice_size = (50, 50)\n",
        "correlation_strength = 0.2  # 0.5 = random, 1.0 = perfect correlation, 0 = perfect negative correlation\n",
        "\n",
        "# Generate correlated lattice\n",
        "lattice = generate_correlated_lattice(size=lattice_size, p_same=correlation_strength)\n",
        "\n",
        "# Visualize lattice\n",
        "print(\"Visualizing lattice configuration:\")\n",
        "visualize_lattice(lattice)"
      ]
    },
    {
      "cell_type": "markdown",
      "id": "ef788e22-ea08-45da-bafc-9e1a5579cd84",
      "metadata": {
        "id": "ef788e22-ea08-45da-bafc-9e1a5579cd84"
      },
      "source": [
        "## Convert lattice to crystal structure\n",
        "\n",
        "Then let's convert those values to a crystal, which has a particular unit cell dimensions, and consists of Cu and Au atoms"
      ]
    },
    {
      "cell_type": "code",
      "execution_count": 9,
      "id": "cd0b1f64-cab4-42cc-a37b-c4536ddaab85",
      "metadata": {
        "id": "cd0b1f64-cab4-42cc-a37b-c4536ddaab85",
        "outputId": "43fcb71e-2f26-488e-ff03-5e03fa0d1ea8",
        "colab": {
          "base_uri": "https://localhost:8080/"
        }
      },
      "outputs": [
        {
          "output_type": "stream",
          "name": "stdout",
          "text": [
            "Structure saved to correlated_structure.cif\n"
          ]
        }
      ],
      "source": [
        "# Convert to crystal structure\n",
        "crystal = convert_lattice_to_crystal_structure(lattice)\n",
        "\n",
        "# Save as CIF file\n",
        "cif_filename = \"correlated_structure.cif\"\n",
        "crystal.save_cif(cif_filename)"
      ]
    },
    {
      "cell_type": "code",
      "source": [
        "from google.colab import files\n",
        "files.download('correlated_structure.cif')"
      ],
      "metadata": {
        "id": "fIISC0yFPiDz",
        "outputId": "151256f9-0d19-4a6d-dcab-cce1f68fee3b",
        "colab": {
          "base_uri": "https://localhost:8080/",
          "height": 17
        }
      },
      "id": "fIISC0yFPiDz",
      "execution_count": 10,
      "outputs": [
        {
          "output_type": "display_data",
          "data": {
            "text/plain": [
              "<IPython.core.display.Javascript object>"
            ],
            "application/javascript": [
              "\n",
              "    async function download(id, filename, size) {\n",
              "      if (!google.colab.kernel.accessAllowed) {\n",
              "        return;\n",
              "      }\n",
              "      const div = document.createElement('div');\n",
              "      const label = document.createElement('label');\n",
              "      label.textContent = `Downloading \"${filename}\": `;\n",
              "      div.appendChild(label);\n",
              "      const progress = document.createElement('progress');\n",
              "      progress.max = size;\n",
              "      div.appendChild(progress);\n",
              "      document.body.appendChild(div);\n",
              "\n",
              "      const buffers = [];\n",
              "      let downloaded = 0;\n",
              "\n",
              "      const channel = await google.colab.kernel.comms.open(id);\n",
              "      // Send a message to notify the kernel that we're ready.\n",
              "      channel.send({})\n",
              "\n",
              "      for await (const message of channel.messages) {\n",
              "        // Send a message to notify the kernel that we're ready.\n",
              "        channel.send({})\n",
              "        if (message.buffers) {\n",
              "          for (const buffer of message.buffers) {\n",
              "            buffers.push(buffer);\n",
              "            downloaded += buffer.byteLength;\n",
              "            progress.value = downloaded;\n",
              "          }\n",
              "        }\n",
              "      }\n",
              "      const blob = new Blob(buffers, {type: 'application/binary'});\n",
              "      const a = document.createElement('a');\n",
              "      a.href = window.URL.createObjectURL(blob);\n",
              "      a.download = filename;\n",
              "      div.appendChild(a);\n",
              "      a.click();\n",
              "      div.remove();\n",
              "    }\n",
              "  "
            ]
          },
          "metadata": {}
        },
        {
          "output_type": "display_data",
          "data": {
            "text/plain": [
              "<IPython.core.display.Javascript object>"
            ],
            "application/javascript": [
              "download(\"download_8362ca88-6c9b-452a-a11f-2a0dfd7767e1\", \"correlated_structure.cif\", 149928)"
            ]
          },
          "metadata": {}
        }
      ]
    },
    {
      "cell_type": "markdown",
      "id": "18dccfe5-9073-4700-92f5-ddece5ea0aba",
      "metadata": {
        "id": "18dccfe5-9073-4700-92f5-ddece5ea0aba"
      },
      "source": [
        "# Calculate diffuse scattering"
      ]
    },
    {
      "cell_type": "code",
      "execution_count": null,
      "id": "99aaa18b-72e8-49f1-8c84-1016901f690a",
      "metadata": {
        "id": "99aaa18b-72e8-49f1-8c84-1016901f690a"
      },
      "outputs": [],
      "source": [
        "grid, sf, intensities = calculate_diffuse_scattering(crystal, lattice_size)\n",
        "\n",
        "# Visualize diffuse scattering\n",
        "plt.figure(figsize=(8, 6))\n",
        "plt.imshow(intensities,\n",
        "           cmap='Greys',\n",
        "           clim=[0, 0.001],  # Adjust this for better contrast\n",
        "           origin='lower',\n",
        "           extent=[grid.lower_limits[0], -grid.lower_limits[0],\n",
        "                   grid.lower_limits[1], -grid.lower_limits[1]])\n",
        "plt.colorbar(label='Intensity')\n",
        "plt.title(\"Diffuse Scattering\")\n",
        "plt.xlabel(\"q_x\")\n",
        "plt.ylabel(\"q_y\")\n",
        "plt.tight_layout()\n",
        "plt.show()"
      ]
    },
    {
      "cell_type": "markdown",
      "id": "10809a2d-4a1c-40de-adf7-929d3b79591a",
      "metadata": {
        "id": "10809a2d-4a1c-40de-adf7-929d3b79591a"
      },
      "source": [
        "# Calculate and visualize, zoom in"
      ]
    },
    {
      "cell_type": "code",
      "execution_count": null,
      "id": "a254a3bd-205c-45f2-881f-f1157f331673",
      "metadata": {
        "id": "a254a3bd-205c-45f2-881f-f1157f331673"
      },
      "outputs": [],
      "source": [
        "plt.figure(figsize=(8, 6))\n",
        "plt.imshow(intensities,\n",
        "           cmap='Greys',\n",
        "           clim=[0, 0.001],\n",
        "           origin='lower',\n",
        "           extent=[grid.lower_limits[0], -grid.lower_limits[0],\n",
        "                   grid.lower_limits[1], -grid.lower_limits[1]])\n",
        "plt.title(\"Diffuse Scattering (Zoomed)\")\n",
        "plt.xlabel(\"q_x\")\n",
        "plt.ylabel(\"q_y\")\n",
        "plt.axis([-2.5, 2.5, -2.5, 2.5])  # Zoom in to central region\n",
        "plt.tight_layout()\n",
        "plt.show()"
      ]
    },
    {
      "cell_type": "code",
      "execution_count": null,
      "id": "5d6bdc6c-326a-4fd5-92b7-08a6725cb5e3",
      "metadata": {
        "id": "5d6bdc6c-326a-4fd5-92b7-08a6725cb5e3"
      },
      "outputs": [],
      "source": []
    }
  ],
  "metadata": {
    "kernelspec": {
      "display_name": "Python 3 (ipykernel)",
      "language": "python",
      "name": "python3"
    },
    "language_info": {
      "codemirror_mode": {
        "name": "ipython",
        "version": 3
      },
      "file_extension": ".py",
      "mimetype": "text/x-python",
      "name": "python",
      "nbconvert_exporter": "python",
      "pygments_lexer": "ipython3",
      "version": "3.12.7"
    },
    "colab": {
      "provenance": []
    }
  },
  "nbformat": 4,
  "nbformat_minor": 5
}
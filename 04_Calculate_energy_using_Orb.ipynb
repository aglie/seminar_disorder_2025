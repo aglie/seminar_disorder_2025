{
  "cells": [
    {
      "cell_type": "code",
      "execution_count": 1,
      "id": "f178bf94-ee98-478c-b4be-716344089afc",
      "metadata": {
        "id": "f178bf94-ee98-478c-b4be-716344089afc",
        "outputId": "fd0e0448-3555-4261-eadb-2670b8455323",
        "colab": {
          "base_uri": "https://localhost:8080/"
        }
      },
      "outputs": [
        {
          "output_type": "stream",
          "name": "stdout",
          "text": [
            "\u001b[?25l   \u001b[90m━━━━━━━━━━━━━━━━━━━━━━━━━━━━━━━━━━━━━━━━\u001b[0m \u001b[32m0.0/53.7 kB\u001b[0m \u001b[31m?\u001b[0m eta \u001b[36m-:--:--\u001b[0m\r\u001b[2K   \u001b[90m━━━━━━━━━━━━━━━━━━━━━━━━━━━━━━━━━━━━━━━━\u001b[0m \u001b[32m53.7/53.7 kB\u001b[0m \u001b[31m1.6 MB/s\u001b[0m eta \u001b[36m0:00:00\u001b[0m\n",
            "\u001b[2K   \u001b[90m━━━━━━━━━━━━━━━━━━━━━━━━━━━━━━━━━━━━━━━━\u001b[0m \u001b[32m2.9/2.9 MB\u001b[0m \u001b[31m25.5 MB/s\u001b[0m eta \u001b[36m0:00:00\u001b[0m\n",
            "\u001b[2K   \u001b[90m━━━━━━━━━━━━━━━━━━━━━━━━━━━━━━━━━━━━━━━━\u001b[0m \u001b[32m363.4/363.4 MB\u001b[0m \u001b[31m3.7 MB/s\u001b[0m eta \u001b[36m0:00:00\u001b[0m\n",
            "\u001b[2K   \u001b[90m━━━━━━━━━━━━━━━━━━━━━━━━━━━━━━━━━━━━━━━━\u001b[0m \u001b[32m13.8/13.8 MB\u001b[0m \u001b[31m55.9 MB/s\u001b[0m eta \u001b[36m0:00:00\u001b[0m\n",
            "\u001b[2K   \u001b[90m━━━━━━━━━━━━━━━━━━━━━━━━━━━━━━━━━━━━━━━━\u001b[0m \u001b[32m24.6/24.6 MB\u001b[0m \u001b[31m43.3 MB/s\u001b[0m eta \u001b[36m0:00:00\u001b[0m\n",
            "\u001b[2K   \u001b[90m━━━━━━━━━━━━━━━━━━━━━━━━━━━━━━━━━━━━━━━━\u001b[0m \u001b[32m883.7/883.7 kB\u001b[0m \u001b[31m34.6 MB/s\u001b[0m eta \u001b[36m0:00:00\u001b[0m\n",
            "\u001b[2K   \u001b[90m━━━━━━━━━━━━━━━━━━━━━━━━━━━━━━━━━━━━━━━━\u001b[0m \u001b[32m664.8/664.8 MB\u001b[0m \u001b[31m853.8 kB/s\u001b[0m eta \u001b[36m0:00:00\u001b[0m\n",
            "\u001b[2K   \u001b[90m━━━━━━━━━━━━━━━━━━━━━━━━━━━━━━━━━━━━━━━━\u001b[0m \u001b[32m211.5/211.5 MB\u001b[0m \u001b[31m5.8 MB/s\u001b[0m eta \u001b[36m0:00:00\u001b[0m\n",
            "\u001b[2K   \u001b[90m━━━━━━━━━━━━━━━━━━━━━━━━━━━━━━━━━━━━━━━━\u001b[0m \u001b[32m56.3/56.3 MB\u001b[0m \u001b[31m14.7 MB/s\u001b[0m eta \u001b[36m0:00:00\u001b[0m\n",
            "\u001b[2K   \u001b[90m━━━━━━━━━━━━━━━━━━━━━━━━━━━━━━━━━━━━━━━━\u001b[0m \u001b[32m127.9/127.9 MB\u001b[0m \u001b[31m7.4 MB/s\u001b[0m eta \u001b[36m0:00:00\u001b[0m\n",
            "\u001b[2K   \u001b[90m━━━━━━━━━━━━━━━━━━━━━━━━━━━━━━━━━━━━━━━━\u001b[0m \u001b[32m207.5/207.5 MB\u001b[0m \u001b[31m6.0 MB/s\u001b[0m eta \u001b[36m0:00:00\u001b[0m\n",
            "\u001b[2K   \u001b[90m━━━━━━━━━━━━━━━━━━━━━━━━━━━━━━━━━━━━━━━━\u001b[0m \u001b[32m21.1/21.1 MB\u001b[0m \u001b[31m75.9 MB/s\u001b[0m eta \u001b[36m0:00:00\u001b[0m\n",
            "\u001b[2K   \u001b[90m━━━━━━━━━━━━━━━━━━━━━━━━━━━━━━━━━━━━━━━━\u001b[0m \u001b[32m139.6/139.6 kB\u001b[0m \u001b[31m10.9 MB/s\u001b[0m eta \u001b[36m0:00:00\u001b[0m\n",
            "\u001b[2K   \u001b[90m━━━━━━━━━━━━━━━━━━━━━━━━━━━━━━━━━━━━━━━━\u001b[0m \u001b[32m450.7/450.7 kB\u001b[0m \u001b[31m27.3 MB/s\u001b[0m eta \u001b[36m0:00:00\u001b[0m\n",
            "\u001b[2K   \u001b[90m━━━━━━━━━━━━━━━━━━━━━━━━━━━━━━━━━━━━━━━━\u001b[0m \u001b[32m13.4/13.4 MB\u001b[0m \u001b[31m33.6 MB/s\u001b[0m eta \u001b[36m0:00:00\u001b[0m\n",
            "\u001b[2K   \u001b[90m━━━━━━━━━━━━━━━━━━━━━━━━━━━━━━━━━━━━━━━━\u001b[0m \u001b[32m84.4/84.4 kB\u001b[0m \u001b[31m5.4 MB/s\u001b[0m eta \u001b[36m0:00:00\u001b[0m\n",
            "\u001b[?25h"
          ]
        }
      ],
      "source": [
        "!pip install -q orb-models\n",
        "!pip install -q ase"
      ]
    },
    {
      "cell_type": "code",
      "source": [
        "!pip install gemmi"
      ],
      "metadata": {
        "id": "C6HMquCpXrJa",
        "outputId": "bc245843-388b-4db5-eebc-42dea0dd3bf9",
        "colab": {
          "base_uri": "https://localhost:8080/"
        }
      },
      "id": "C6HMquCpXrJa",
      "execution_count": 6,
      "outputs": [
        {
          "output_type": "stream",
          "name": "stdout",
          "text": [
            "Collecting gemmi\n",
            "  Downloading gemmi-0.7.0-cp311-cp311-manylinux_2_17_x86_64.manylinux2014_x86_64.whl.metadata (2.4 kB)\n",
            "Downloading gemmi-0.7.0-cp311-cp311-manylinux_2_17_x86_64.manylinux2014_x86_64.whl (2.5 MB)\n",
            "\u001b[2K   \u001b[90m━━━━━━━━━━━━━━━━━━━━━━━━━━━━━━━━━━━━━━━━\u001b[0m \u001b[32m2.5/2.5 MB\u001b[0m \u001b[31m24.6 MB/s\u001b[0m eta \u001b[36m0:00:00\u001b[0m\n",
            "\u001b[?25hInstalling collected packages: gemmi\n",
            "Successfully installed gemmi-0.7.0\n"
          ]
        }
      ]
    },
    {
      "cell_type": "code",
      "source": [
        "!pip install pynanoflann"
      ],
      "metadata": {
        "id": "GyReXCVyYF6q",
        "outputId": "6c0c5c66-b427-4fb2-e353-32b4b0f38b44",
        "colab": {
          "base_uri": "https://localhost:8080/"
        }
      },
      "id": "GyReXCVyYF6q",
      "execution_count": 13,
      "outputs": [
        {
          "output_type": "stream",
          "name": "stdout",
          "text": [
            "Collecting pynanoflann\n",
            "  Downloading pynanoflann-0.10.0-cp311-cp311-manylinux_2_17_x86_64.manylinux2014_x86_64.whl.metadata (1.7 kB)\n",
            "Requirement already satisfied: numpy in /usr/local/lib/python3.11/dist-packages (from pynanoflann) (2.0.2)\n",
            "Downloading pynanoflann-0.10.0-cp311-cp311-manylinux_2_17_x86_64.manylinux2014_x86_64.whl (244 kB)\n",
            "\u001b[2K   \u001b[90m━━━━━━━━━━━━━━━━━━━━━━━━━━━━━━━━━━━━━━━━\u001b[0m \u001b[32m244.4/244.4 kB\u001b[0m \u001b[31m3.9 MB/s\u001b[0m eta \u001b[36m0:00:00\u001b[0m\n",
            "\u001b[?25hInstalling collected packages: pynanoflann\n",
            "Successfully installed pynanoflann-0.10.0\n"
          ]
        }
      ]
    },
    {
      "cell_type": "code",
      "source": [
        "!git clone https://github.com/aglie/seminar_disorder_2025.git"
      ],
      "metadata": {
        "id": "yWQcLblsXmiq",
        "outputId": "b4893c41-9d1f-4387-e2e0-4aaeb2bfe616",
        "colab": {
          "base_uri": "https://localhost:8080/"
        }
      },
      "id": "yWQcLblsXmiq",
      "execution_count": 3,
      "outputs": [
        {
          "output_type": "stream",
          "name": "stdout",
          "text": [
            "Cloning into 'seminar_disorder_2025'...\n",
            "remote: Enumerating objects: 47, done.\u001b[K\n",
            "remote: Counting objects: 100% (47/47), done.\u001b[K\n",
            "remote: Compressing objects: 100% (41/41), done.\u001b[K\n",
            "remote: Total 47 (delta 17), reused 19 (delta 4), pack-reused 0 (from 0)\u001b[K\n",
            "Receiving objects: 100% (47/47), 2.50 MiB | 7.03 MiB/s, done.\n",
            "Resolving deltas: 100% (17/17), done.\n"
          ]
        }
      ]
    },
    {
      "cell_type": "code",
      "source": [
        "cd seminar_disorder_2025/"
      ],
      "metadata": {
        "id": "ggGLlKf9XnGO",
        "outputId": "2e12b0db-a1ce-4feb-f162-b923739c330b",
        "colab": {
          "base_uri": "https://localhost:8080/"
        }
      },
      "id": "ggGLlKf9XnGO",
      "execution_count": 4,
      "outputs": [
        {
          "output_type": "stream",
          "name": "stdout",
          "text": [
            "/content/seminar_disorder_2025\n"
          ]
        }
      ]
    },
    {
      "cell_type": "code",
      "source": [
        "from CalculateScattering import CrystalStructure\n",
        "import numpy as np"
      ],
      "metadata": {
        "id": "6MZla39EW4QL"
      },
      "id": "6MZla39EW4QL",
      "execution_count": 9,
      "outputs": []
    },
    {
      "cell_type": "code",
      "source": [
        "# ----- Convert Lattice to Crystal Structure -----\n",
        "def convert_lattice_to_crystal_structure(lattice, a=3.0):\n",
        "    \"\"\"\n",
        "    Convert a 2D lattice of +1 (Cu) and -1 (Au) into a 3D CrystalStructure\n",
        "    \"\"\"\n",
        "    height, width = lattice.shape\n",
        "\n",
        "    # Create atoms list (element_type, x, y, z)\n",
        "    atoms = []\n",
        "    for x in range(height):\n",
        "        for y in range(width):\n",
        "            # Convert +1 to Cu, -1 to Au\n",
        "            element = \"Cu\" if lattice[x, y] == 1 else \"Au\"\n",
        "            atoms.append((element, x, y, 0))\n",
        "\n",
        "    # Create crystal structure with a simple cubic unit cell\n",
        "    crystal = CrystalStructure(\n",
        "        cell_parameters=(a, a, a, 90, 90, 90),  # Simple cubic cell\n",
        "        atoms=atoms,\n",
        "        supercell=(width, height, 1)  # 2D structure with thickness of 1\n",
        "    )\n",
        "\n",
        "    return crystal"
      ],
      "metadata": {
        "id": "uJ-A5zRMXAgj"
      },
      "id": "uJ-A5zRMXAgj",
      "execution_count": 10,
      "outputs": []
    },
    {
      "cell_type": "code",
      "source": [
        "from orb_models.forcefield import pretrained\n",
        "from orb_models.forcefield.calculator import ORBCalculator"
      ],
      "metadata": {
        "id": "5HOXM5SkXU64"
      },
      "id": "5HOXM5SkXU64",
      "execution_count": 14,
      "outputs": []
    },
    {
      "cell_type": "code",
      "source": [
        "device = \"cpu\"  #or cuda or tpu\n",
        "orbff = pretrained.orb_v2(device=device)\n",
        "calc = ORBCalculator(orbff, device=device)"
      ],
      "metadata": {
        "id": "HD-sQsPAX16B",
        "outputId": "f29f613f-6eb3-4c0f-b36f-a4d7a42399ec",
        "colab": {
          "base_uri": "https://localhost:8080/",
          "height": 33,
          "referenced_widgets": [
            "e6d8cab6a4894524b2e9f2a1f1adb213",
            "e0e29a4911d14ceba90cbb37a36e7fd5"
          ]
        }
      },
      "id": "HD-sQsPAX16B",
      "execution_count": 15,
      "outputs": [
        {
          "output_type": "display_data",
          "data": {
            "text/plain": [
              "Output()"
            ],
            "application/vnd.jupyter.widget-view+json": {
              "version_major": 2,
              "version_minor": 0,
              "model_id": "e6d8cab6a4894524b2e9f2a1f1adb213"
            }
          },
          "metadata": {}
        },
        {
          "output_type": "display_data",
          "data": {
            "text/plain": [],
            "text/html": [
              "<pre style=\"white-space:pre;overflow-x:auto;line-height:normal;font-family:Menlo,'DejaVu Sans Mono',consolas,'Courier New',monospace\"></pre>\n"
            ]
          },
          "metadata": {}
        }
      ]
    },
    {
      "cell_type": "code",
      "source": [
        "cu_lattice = np.array([[1, 1], [1, 1]])\n",
        "crystal = convert_lattice_to_crystal_structure(cu_lattice)\n",
        "\n",
        "crystal_atoms_format = crystal.to_ase_atoms()\n",
        "crystal_atoms_format.calc = calc\n",
        "\n",
        "energy = crystal_atoms_format.get_potential_energy()\n",
        "print(f\"The energy of the crystal structure is: {energy} eV\")"
      ],
      "metadata": {
        "id": "4ui3hF1FYOgm",
        "outputId": "5c2a818a-015c-4268-a3f9-fa6c555b8ad7",
        "colab": {
          "base_uri": "https://localhost:8080/"
        }
      },
      "id": "4ui3hF1FYOgm",
      "execution_count": 19,
      "outputs": [
        {
          "output_type": "stream",
          "name": "stdout",
          "text": [
            "The energy of the crystal structure is: -10.578989028930664 eV\n"
          ]
        }
      ]
    },
    {
      "cell_type": "markdown",
      "source": [
        "# Exercise: calculate mixing\n",
        "\n",
        "Now using this pattern calculate the energy of mixing Cu with Au:\n",
        "\n",
        "- Create a larger supercell with only 2 Au atoms which are separated by Cu\n",
        "- And another one where 2 Au atoms are close to each other\n",
        "- Calculate the energy of both configurations\n",
        "- Assume the energy of interaction is only nearest neighbour. What should be the value of J to account for such a pair?"
      ],
      "metadata": {
        "id": "XN0uroZyZ4bR"
      },
      "id": "XN0uroZyZ4bR"
    },
    {
      "cell_type": "code",
      "source": [],
      "metadata": {
        "id": "kxSXrj6raX9m"
      },
      "id": "kxSXrj6raX9m",
      "execution_count": null,
      "outputs": []
    }
  ],
  "metadata": {
    "kernelspec": {
      "display_name": "Python 3 (ipykernel)",
      "language": "python",
      "name": "python3"
    },
    "language_info": {
      "codemirror_mode": {
        "name": "ipython",
        "version": 3
      },
      "file_extension": ".py",
      "mimetype": "text/x-python",
      "name": "python",
      "nbconvert_exporter": "python",
      "pygments_lexer": "ipython3",
      "version": "3.12.7"
    },
    "colab": {
      "provenance": []
    },
    "widgets": {
      "application/vnd.jupyter.widget-state+json": {
        "e6d8cab6a4894524b2e9f2a1f1adb213": {
          "model_module": "@jupyter-widgets/output",
          "model_name": "OutputModel",
          "model_module_version": "1.0.0",
          "state": {
            "_dom_classes": [],
            "_model_module": "@jupyter-widgets/output",
            "_model_module_version": "1.0.0",
            "_model_name": "OutputModel",
            "_view_count": null,
            "_view_module": "@jupyter-widgets/output",
            "_view_module_version": "1.0.0",
            "_view_name": "OutputView",
            "layout": "IPY_MODEL_e0e29a4911d14ceba90cbb37a36e7fd5",
            "msg_id": "",
            "outputs": [
              {
                "output_type": "display_data",
                "data": {
                  "text/plain": "Downloading \u001b[3;36m…rcefields/orb-v2-20241011.ckpt\u001b[0m \u001b[38;2;249;38;114m━━━━━━━━━━━━━━━━━━━━━━━━━━━━━━━━━━━━━━━\u001b[0m\u001b[38;5;237m╺\u001b[0m \u001b[35m 98%\u001b[0m \u001b[33m0:00:07\u001b[0m \u001b[32m99.3/101.0 MB\u001b[0m\n",
                  "text/html": "<pre style=\"white-space:pre;overflow-x:auto;line-height:normal;font-family:Menlo,'DejaVu Sans Mono',consolas,'Courier New',monospace\">Downloading <span style=\"color: #008080; text-decoration-color: #008080; font-style: italic\">…rcefields/orb-v2-20241011.ckpt</span> <span style=\"color: #f92672; text-decoration-color: #f92672\">━━━━━━━━━━━━━━━━━━━━━━━━━━━━━━━━━━━━━━━</span><span style=\"color: #3a3a3a; text-decoration-color: #3a3a3a\">╺</span> <span style=\"color: #800080; text-decoration-color: #800080\"> 98%</span> <span style=\"color: #808000; text-decoration-color: #808000\">0:00:07</span> <span style=\"color: #008000; text-decoration-color: #008000\">99.3/101.0 MB</span>\n</pre>\n"
                },
                "metadata": {}
              }
            ]
          }
        },
        "e0e29a4911d14ceba90cbb37a36e7fd5": {
          "model_module": "@jupyter-widgets/base",
          "model_name": "LayoutModel",
          "model_module_version": "1.2.0",
          "state": {
            "_model_module": "@jupyter-widgets/base",
            "_model_module_version": "1.2.0",
            "_model_name": "LayoutModel",
            "_view_count": null,
            "_view_module": "@jupyter-widgets/base",
            "_view_module_version": "1.2.0",
            "_view_name": "LayoutView",
            "align_content": null,
            "align_items": null,
            "align_self": null,
            "border": null,
            "bottom": null,
            "display": null,
            "flex": null,
            "flex_flow": null,
            "grid_area": null,
            "grid_auto_columns": null,
            "grid_auto_flow": null,
            "grid_auto_rows": null,
            "grid_column": null,
            "grid_gap": null,
            "grid_row": null,
            "grid_template_areas": null,
            "grid_template_columns": null,
            "grid_template_rows": null,
            "height": null,
            "justify_content": null,
            "justify_items": null,
            "left": null,
            "margin": null,
            "max_height": null,
            "max_width": null,
            "min_height": null,
            "min_width": null,
            "object_fit": null,
            "object_position": null,
            "order": null,
            "overflow": null,
            "overflow_x": null,
            "overflow_y": null,
            "padding": null,
            "right": null,
            "top": null,
            "visibility": null,
            "width": null
          }
        }
      }
    }
  },
  "nbformat": 4,
  "nbformat_minor": 5
}